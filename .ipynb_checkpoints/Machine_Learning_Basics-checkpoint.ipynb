{
 "cells": [
  {
   "cell_type": "markdown",
   "id": "c1d28734-97c0-4cd2-9730-19c04aab0de7",
   "metadata": {},
   "source": [
    "## Machine Learning Basics  \n",
    "`Initiation`"
   ]
  },
  {
   "cell_type": "markdown",
   "id": "3be53d05-700d-4491-a1fe-bc99cd6f897d",
   "metadata": {},
   "source": [
    "Importing the essentials such `matplotlib.pyplot` and `numpy`"
   ]
  },
  {
   "cell_type": "code",
   "execution_count": 1,
   "id": "1cc0660c-d63e-4125-9859-f04d9fa7353b",
   "metadata": {},
   "outputs": [],
   "source": [
    "import matplotlib.pyplot as plt # Mainly used for graphical plotting\n",
    "import numpy as np # The classic array use cases (tbh this is the real OG because pandas is made with the help with numpy)\n",
    "import pandas as pd # The OG Padas folks\n",
    "# plt.style.use('./deeplearning.mplstyle') # This sets the matplotlib with a special style won't worl for this case "
   ]
  },
  {
   "cell_type": "markdown",
   "id": "fef46bf1-0fa8-468e-afed-522b84479cc1",
   "metadata": {},
   "source": [
    "Defining x_train and y_train:\n",
    " - This `x_train` is the input variable (size in 1000 square feet)\n",
    " - The `y_train` is the target (price in 1000s of dollars)"
   ]
  },
  {
   "cell_type": "code",
   "execution_count": 2,
   "id": "aaa42fe0-3e0b-477d-b9cb-ab7625c309cf",
   "metadata": {},
   "outputs": [
    {
     "name": "stdout",
     "output_type": "stream",
     "text": [
      "x_train: [1. 2.]\n",
      "\n",
      "y_train: [300. 500.]\n"
     ]
    }
   ],
   "source": [
    "x_train = np.array([1.0,2.0]) \n",
    "# the training set was created with an array containg the values 1.0 and 2.0\n",
    "y_train = np.array([300.0,500.0])\n",
    "# this set has values 300.0 and 500.0 in the array\n",
    "print(f\"x_train: {x_train}\") # shows how this one looks\n",
    "print(\"\")\n",
    "print(f\"y_train: {y_train}\") # same goes for this one as well\n"
   ]
  },
  {
   "cell_type": "markdown",
   "id": "52a55af8-56b1-415f-b903-bb5a7bc3787c",
   "metadata": {},
   "source": [
    "### Number of training Examples is m\n",
    "\n",
    "We will use m to denote the number of training examples. Numpy arrays have a `.shape` parameter. `x_train.shape` returns a python tuple with an entry\n",
    "for each dimension `x_train.shape[0]` - which is the length of the array and number of examples as shown below"
   ]
  },
  {
   "cell_type": "code",
   "execution_count": 3,
   "id": "6e300f43-ebb6-4fcb-93ba-fe65225ab15a",
   "metadata": {},
   "outputs": [
    {
     "name": "stdout",
     "output_type": "stream",
     "text": [
      "x_train.shape: (2,)\n",
      "The Number of training examples is 2\n"
     ]
    }
   ],
   "source": [
    "print(f\"x_train.shape: {x_train.shape}\")\n",
    "m = x_train.shape[0] \n",
    "# Because at the time of initiation we knew that the array we had created was 1-D\n",
    "print(f\"The Number of training examples is {m}\")"
   ]
  },
  {
   "cell_type": "code",
   "execution_count": 4,
   "id": "c64c5d1a-ac08-41af-be5c-da1f584dba6a",
   "metadata": {},
   "outputs": [
    {
     "name": "stdout",
     "output_type": "stream",
     "text": [
      "The number of training examples are: 2\n"
     ]
    }
   ],
   "source": [
    "# We could've used the Python len() function as well\n",
    "m = len(x_train)\n",
    "print(f\"The number of training examples are: {m}\")"
   ]
  },
  {
   "cell_type": "markdown",
   "id": "1a379cc7-0316-42fe-b5b5-ca0ca6038e0c",
   "metadata": {},
   "source": [
    "### Training example `x_i, y_i`\n",
    "\n",
    "We will use (x$^{(i)}$, y$^{(i)}$) to denote the $i^{th}$ training example. As we all know that Python is zero indexed, (x$^{(0)}$, y$^{(0)}$) is (1.0, 300.0) and (x$^{(1)}$, y$^{(1)}$) is (2.0, 500.0). "
   ]
  },
  {
   "cell_type": "code",
   "execution_count": 5,
   "id": "d3fda820-1ebc-4a75-a4b8-2e5720c98654",
   "metadata": {},
   "outputs": [
    {
     "name": "stdout",
     "output_type": "stream",
     "text": [
      "The i'th training for x_train is: 1.0\n",
      " and same for the y_train is: 300.0\n"
     ]
    }
   ],
   "source": [
    "i = 0\n",
    "x_i = x_train[i]\n",
    "y_i = y_train[i]\n",
    "print(f\"The i'th training for x_train is: {x_i}\\n and same for the y_train is: {y_i}\")\n",
    "# so if you wanted to see the 2nd or the 1st indexed item just change the i to 1\n"
   ]
  },
  {
   "cell_type": "markdown",
   "id": "c9918fb5-25ea-40e7-8ca0-3f2c4ce50d49",
   "metadata": {},
   "source": [
    "#### Plotting the Data\n",
    "\n",
    "We can plot these two points using the scatter() function in the matplotlib library, as shown in the cell below.\n",
    "\n",
    "- The function arguments `marker` and `c` show the points as red crosses (the default is blue dots)"
   ]
  },
  {
   "cell_type": "code",
   "execution_count": 14,
   "id": "a342304c-2e68-41a3-9d45-73d49493858b",
   "metadata": {},
   "outputs": [
    {
     "data": {
      "image/png": "[encoded data removed]",
      "text/plain": [
       "<Figure size 640x480 with 1 Axes>"
      ]
     },
     "metadata": {},
     "output_type": "display_data"
    }
   ],
   "source": [
    "# Plotting the data Points\n",
    "plt.scatter(x_train,y_train, marker = 'x', c = 'r') \n",
    "# the marker defines what the points will look like and c is the colour which in here is red 'r' for red\n",
    "# Setting the title\n",
    "plt.title('Housing Prices')\n",
    "# Setting the y-axis label\n",
    "plt.ylabel('Price (in 1000s of Dollars)')\n",
    "# Setting the x-axis label\n",
    "plt.xlabel('Size (1000 sqft)')\n",
    "plt.show()\n"
   ]
  },
  {
   "cell_type": "markdown",
   "id": "04f8b538-0f75-4a06-b495-018126ba048a",
   "metadata": {},
   "source": [
    "If we could relate to a linear equation we may find this one familiar, the model function for linear regression (which is a function that maps from `x` to `y`) is represented as \n",
    "\n",
    "$$ f_{w,b}(x^{(i)}) = wx^{(i)} + b \\tag{1}$$\n",
    "\n",
    "The formula above is how you can represent straight lines - different values of $w$ and $b$ give you different straight lines on the plot. <br/> <br/>  <br/> \n",
    "Let's try to get a better intuition for this through the code blocks below. Let's start with $w = 100$ and $b = 100$."
   ]
  },
  {
   "cell_type": "code",
   "execution_count": 7,
   "id": "f6fd80f2-8179-4e44-97fa-476f1650a08c",
   "metadata": {},
   "outputs": [
    {
     "name": "stdout",
     "output_type": "stream",
     "text": [
      "w: 100\n",
      "b: 100\n"
     ]
    }
   ],
   "source": [
    "w = 100\n",
    "b = 100\n",
    "print(f\"w: {w}\")\n",
    "print(f\"b: {b}\")"
   ]
  },
  {
   "cell_type": "markdown",
   "id": "bd3ec9ae-faa0-4733-afe1-acf8bb29a8d3",
   "metadata": {},
   "source": [
    "Now, let us compute the value of $f_{w,b}(x^{(i)})$ for our two data points. We can explicitly write this out for each data point as - \n",
    "\n",
    "for $x^{(0)}$, `f_wb = w * x[0] + b`\n",
    "\n",
    "for $x^{(1)}$, `f_wb = w * x[1] + b`\n",
    "\n",
    "For a large number of data points, this can get unwieldy and repetitive. So instead, we can calculate the function output in a `for` loop as shown in the `compute_model_output` function below.\n",
    "> **Note**: The argument description `(ndarray (m,))` describes a Numpy n-dimensional array of shape (m,). `(scalar)` describes an argument without dimensions, just a magnitude.  \n",
    "> **Note**: `np.zero(n)` will return a one-dimensional numpy array with $n$ entries   \n"
   ]
  },
  {
   "cell_type": "code",
   "execution_count": 8,
   "id": "080b9a6b-cb60-4237-820a-ac31aa43c3df",
   "metadata": {},
   "outputs": [],
   "source": [
    "def compute_model_output(x,w,b):\n",
    "    \"\"\" \n",
    "    Computes the prediction of a linear model Args:\n",
    "        x(ndarray(m,)) : Data, m examples\n",
    "        w,b (scalar) : model parameters\n",
    "    Returns \n",
    "        f_wb(ndarray(m,)): model_prediction\n",
    "    \"\"\"\n",
    "    m = x.shape[0]\n",
    "    f_wb = np.zeros(m)\n",
    "    for i in range(m):\n",
    "        f_wb[i] = w * x[i] + b\n",
    "\n",
    "    return f_wb\n",
    "\n",
    "# if you look closely enough during the compute_model_output first we get a array of fixed length of size m, every element is 0\n",
    "# and then with value of x and the function the values change to what the operation does to them and \n",
    "# finally we get the whole array as return output\n",
    "        "
   ]
  },
  {
   "cell_type": "code",
   "execution_count": 16,
   "id": "bf7f6d05-e9a4-4948-9dcf-8ff631b9dae5",
   "metadata": {},
   "outputs": [
    {
     "data": {
      "image/png": "[encoded data removed]",
      "text/plain": [
       "<Figure size 640x480 with 1 Axes>"
      ]
     },
     "metadata": {},
     "output_type": "display_data"
    }
   ],
   "source": [
    "tmp_f_wb = compute_model_output(x_train, w, b)\n",
    "#Plotting our model Prediction\n",
    "plt.plot(x_train,tmp_f_wb, c = 'b', label = 'Our Prediction') \n",
    "# this one draws a line and the label will initiate a name-box on the top left corner\n",
    "#Plotting The data Points\n",
    "plt.scatter(x_train,y_train,marker = 'x',c = 'r', label = 'Actual Values')\n",
    "# Setting the Title\n",
    "plt.title(\"Housing prices\")\n",
    "# Setting the y-axis label\n",
    "plt.ylabel(\"Price (in 1000s of dollars)\")\n",
    "# Setting the x-axis label\n",
    "plt.xlabel(\"Size (1000 sqft)\")\n",
    "plt.legend()\n",
    "plt.show()\n",
    "\n",
    "# This model mre specifically the valus of w and b have caused us get wrong predictions\n"
   ]
  },
  {
   "cell_type": "markdown",
   "id": "8e5c6aef-84df-412d-8d5c-cd372949caf5",
   "metadata": {},
   "source": [
    "### Prediction\n",
    "Now that we have a model, we can use it to make our original prediction. Let's predict the price of a house with 1200 sqft. Since the units of $x$ are in 1000's of sqft, $x$ is 1.2.\n"
   ]
  },
  {
   "cell_type": "code",
   "execution_count": 10,
   "id": "19ab6916-545f-4357-a3ff-d3c4d852c940",
   "metadata": {},
   "outputs": [
    {
     "name": "stdout",
     "output_type": "stream",
     "text": [
      "$340 thousand dollars\n"
     ]
    }
   ],
   "source": [
    "w = 200                         \n",
    "b = 100    \n",
    "x_i = 1.2\n",
    "cost_1200sqft = w * x_i + b    \n",
    "\n",
    "print(f\"${cost_1200sqft:.0f} thousand dollars\")\n",
    "# See now we get a more realistic price"
   ]
  },
  {
   "cell_type": "code",
   "execution_count": 17,
   "id": "c1d726d9-bf4a-4a7c-ba16-283eb6174e7a",
   "metadata": {},
   "outputs": [
    {
     "name": "stdout",
     "output_type": "stream",
     "text": [
      "$390 thousand dollars\n"
     ]
    }
   ],
   "source": [
    "# lets try with a different value of w and b\n",
    "w = 220\n",
    "b = 104\n",
    "x_i = 1.3\n",
    "cost_1550sqft = w * x_i + b \n",
    "\n",
    "print(f\"${cost_1550sqft:.0f} thousand dollars\")\n",
    "\n",
    "# if you look closely enough during the compute_model_output first we get a array of fixed length of size m, every element is 0\n",
    "# and then with value of x and the function the values change to what the operation does to them and finally we get the whole array as return output"
   ]
  },
  {
   "cell_type": "markdown",
   "id": "b4dfeea9-8f17-4425-b424-45a83e9da59a",
   "metadata": {},
   "source": [
    "## The Game starts now\n",
    "\n",
    "`Tools Used`\n",
    "- Numpy\n",
    "- Matplotlib\n",
    "- Local Plotting routines"
   ]
  },
  {
   "cell_type": "code",
   "execution_count": 23,
   "id": "a8a0ecd7-3186-4eb7-9c1c-500e5f478782",
   "metadata": {},
   "outputs": [],
   "source": [
    "import numpy as np\n",
    "# %matplotlib widget\n",
    "import matplotlib.pyplot as plt\n",
    "# from lab_utis_uni import plt_intuition,plt_stationary, plt_update_onclick, soup_bowl\n",
    "# # plt.style.use('./deeplearning.mplstyle') \n",
    "# these ones are quite advanced and we will need to install sepcial packages in some special way\n",
    "# for them to work that why I have marked them as comment"
   ]
  },
  {
   "cell_type": "markdown",
   "id": "39d82c27-27e3-4f8e-963f-2f6aec531c59",
   "metadata": {},
   "source": [
    "### *Performaing Similar Calculatiuons*\n",
    "- `Defining the training sets`\n",
    "- `Creating the function`\n",
    "- `Showing Visuallizations`"
   ]
  },
  {
   "cell_type": "code",
   "execution_count": 24,
   "id": "55bf7d91-fb81-4aed-be3d-9716f51a23a6",
   "metadata": {},
   "outputs": [],
   "source": [
    "x_train = np.array([1.0,2.0])\n",
    "y_train = np.array([300.0,500.0])\n",
    "\n",
    "def compute_cost(x,y,w,b):\n",
    "    \"\"\"\n",
    "    Computes the cost function for linear regression.\n",
    "    Args:\n",
    "        x (ndarray (m,)): Data, m examples\n",
    "        y (ndarray (m,)): target values\n",
    "        w,b (scalar) : model parameters\n",
    "        \n",
    "    Returns total_cost(float): The cost of using w,b as the parameters for \n",
    "    linear regression to fir the data points in x and y \n",
    "        \"\"\"\n",
    "    m = x.shape[0] # we could also do m = len(x)\n",
    "    cost_sum = 0 # initially there was no error\n",
    "    for i in range(m):\n",
    "        f_wb = w * x[i] + b # this is for the line\n",
    "        cost = (f_wb - y[i]) ** 2 # the difference between the point in the line and the actual point\n",
    "        cost_sum += cost # Summing up all the square of the errors\n",
    "\n",
    "    total_cost = (1/(2*m)) * cost_sum # for even further accuracy\n",
    "\n",
    "    return total_cost # (Summation of all the squared errors divivided by (2 * len of x))\n",
    "\n",
    "# This is our newer better model"
   ]
  },
  {
   "cell_type": "markdown",
   "id": "36d4df90-8311-455e-b6c1-a493e5e826db",
   "metadata": {},
   "source": [
    "#### Testing for  a larger dataset\n",
    "\n",
    "It is instructive to view a scenario with a few more data points. This data set includes data points that do not fall on the same line. What does that mean for the cost equation? Can we find $w$, and $b$ that will give us a cost of 0?"
   ]
  },
  {
   "cell_type": "code",
   "execution_count": 28,
   "id": "b5b54d5b-fc0a-4233-bdf0-0ac44672e1a5",
   "metadata": {},
   "outputs": [
    {
     "data": {
      "image/png": "[encoded data removed]",
      "text/plain": [
       "<Figure size 640x480 with 1 Axes>"
      ]
     },
     "metadata": {},
     "output_type": "display_data"
    }
   ],
   "source": [
    "# Updating x_train and y_train with new and more values \n",
    "x_train = np.array([1.0,1.6,2.1,2.5,3.2,3.7])\n",
    "y_train = np.array([250,310,340,380,450,490])\n",
    "\n",
    "\n",
    "plt.scatter(x_train, y_train, marker = 'x', c = 'g')\n",
    "plt.title('Just plotting the values')\n",
    "plt.xlabel('Demand level')\n",
    "plt.ylabel('Price in ($ 100k )')\n",
    "plt.show()\n"
   ]
  },
  {
   "cell_type": "markdown",
   "id": "e2e402d3-a1d7-4562-b6b7-aec2645ab524",
   "metadata": {},
   "source": [
    "### Gradient Descent Algorithm\n",
    "- numpy\n",
    "- matplotlib\n",
    "- math\n",
    "\n",
    "Are required to complete the understanding"
   ]
  },
  {
   "cell_type": "code",
   "execution_count": 2,
   "id": "ab2e49a7-4280-4edb-b55a-ddd6d6150ff0",
   "metadata": {},
   "outputs": [
    {
     "name": "stdout",
     "output_type": "stream",
     "text": [
      "Modules successfully imported\n"
     ]
    }
   ],
   "source": [
    "# importing the required modules\n",
    "\n",
    "try:\n",
    "    import math, copy\n",
    "    import numpy as np\n",
    "    import matplotlib.pyplot as plt\n",
    "    print('Modules successfully imported')\n",
    "except:\n",
    "    print('There is perhaps an error in any of the import statements')\n",
    "\n"
   ]
  },
  {
   "cell_type": "markdown",
   "id": "2c4a2772-6fa4-45b1-a45c-425f91a21df3",
   "metadata": {},
   "source": [
    "<a name=\"toc_40291_2\"></a>\n",
    "# Problem Statement\n",
    "\n",
    "Let us use the same two data points as before - a house with 1000 square feet sold for \\\\$300,000 and a house with 2000 square feet sold for \\\\$500,000.\n",
    "\n",
    "| Size (1000 sqft)     | Price (1000s of dollars) |\n",
    "| ----------------| ------------------------ |\n",
    "| 1               | 300                      |\n",
    "| 2               | 500                      |\n"
   ]
  },
  {
   "cell_type": "code",
   "execution_count": 3,
   "id": "19ceddca-082f-4fd3-9f61-933533125f1b",
   "metadata": {},
   "outputs": [],
   "source": [
    "# Loading our dataset\n",
    "x_train = np.array([1.0,2.0]) # this is the feature\n",
    "y_train = np.array([300.0,500.0]) # target value that needs answering"
   ]
  },
  {
   "cell_type": "markdown",
   "id": "d7b418e1-02d1-48f2-9efa-d7b219bbf77c",
   "metadata": {},
   "source": [
    "#### Compute Cost Formula"
   ]
  },
  {
   "cell_type": "code",
   "execution_count": 4,
   "id": "46355ba9-0ff2-40d9-afff-78147019da95",
   "metadata": {},
   "outputs": [],
   "source": [
    "# this cost_compute is the error basically\n",
    "\n",
    "def compute_cost(x,y,w,b):\n",
    "    m = len(x)\n",
    "    cost = 0\n",
    "    for i in range(m):\n",
    "        f_wb = (w *x[i]) + b\n",
    "        cost += (f_wb - y[i])**2\n",
    "    total_cost = (1/(2*m)) * cost \n",
    "\n",
    "    return total_cost"
   ]
  },
  {
   "cell_type": "code",
   "execution_count": null,
   "id": "dbec7341-f4a2-4c2b-8c93-190e2dbbd3fd",
   "metadata": {},
   "outputs": [],
   "source": [
    "# Trace to the gradient descent theory online"
   ]
  },
  {
   "cell_type": "markdown",
   "id": "97ae8810-0756-446b-922e-1d5313eadfe5",
   "metadata": {},
   "source": [
    "#### Compute Gradient "
   ]
  },
  {
   "cell_type": "code",
   "execution_count": null,
   "id": "a5eb5233-0c0c-4bbb-9d7f-f886b8b88875",
   "metadata": {},
   "outputs": [],
   "source": [
    "def compute_gradient(x,y,w,b):\n",
    "    \"\"\"\n",
    "    Computes the gradient for linear regression \n",
    "    Args:\n",
    "      x (ndarray (m,)): Data, m examples \n",
    "      y (ndarray (m,)): target values\n",
    "      w,b (scalar)    : model parameters  \n",
    "    Returns\n",
    "      dj_dw (scalar): The gradient of the cost w.r.t. the parameters w\n",
    "      dj_db (scalar): The gradient of the cost w.r.t. the parameter b     \n",
    "     \"\"\"\n",
    "\n",
    "    # Number of training examples\n",
    "    m = len[x]\n",
    "    dj_dw = 0\n",
    "    dj_db = 0\n",
    "    for i in range(m):\n",
    "        f_wb = (w * x[i]) + b\n",
    "        dj_dw_i = (f_wb - y[i]) * x[i]\n",
    "        dj_db_i = (f_wb - y[i])\n",
    "        dj_dw += dj_dw_i\n",
    "        dj_db += dj_db_i\n",
    "    dj_dw = dj_dw / m\n",
    "    dj_db = dj_db / m\n",
    "\n",
    "    return dj_dw, dj_db\n",
    "    "
   ]
  },
  {
   "cell_type": "code",
   "execution_count": 5,
   "id": "402e292e-52ec-480d-9728-48614164b26a",
   "metadata": {},
   "outputs": [
    {
     "ename": "NameError",
     "evalue": "name 'plt_gradients' is not defined",
     "output_type": "error",
     "traceback": [
      "\u001b[1;31m---------------------------------------------------------------------------\u001b[0m",
      "\u001b[1;31mNameError\u001b[0m                                 Traceback (most recent call last)",
      "Cell \u001b[1;32mIn[5], line 1\u001b[0m\n\u001b[1;32m----> 1\u001b[0m \u001b[43mplt_gradients\u001b[49m(x_train,y_train,compute_cost,compute_gradient)\n\u001b[0;32m      2\u001b[0m plt\u001b[38;5;241m.\u001b[39mshow()\n",
      "\u001b[1;31mNameError\u001b[0m: name 'plt_gradients' is not defined"
     ]
    }
   ],
   "source": [
    "# A full Methodology of how the gradient descent works\n",
    "\n",
    "# Sample training data (x, y)\n",
    "x = np.array([1, 2, 3, 4, 5], dtype=np.float64)\n",
    "y = np.array([2, 4, 6, 8, 10], dtype=np.float64)\n",
    "\n",
    "# Initialize parameters\n",
    "w = 0.0  # weight\n",
    "b = 0.0  # bias\n",
    "\n",
    "# Hyperparameters\n",
    "learning_rate = 0.01\n",
    "epochs = 1000  # Number of times to run gradient descent\n",
    "\n",
    "n = len(x)  # Number of data points\n",
    "\n",
    "# Gradient Descent Algorithm\n",
    "for i in range(epochs):\n",
    "    # Predicted y\n",
    "    y_pred = w * x + b\n",
    "    \n",
    "    # Compute gradients\n",
    "    dw = (2/n) * np.dot(x, (y_pred - y))\n",
    "    db = (2/n) * np.sum(y_pred - y)\n",
    "\n",
    "    # Update parameters\n",
    "    w -= learning_rate * dw\n",
    "    b -= learning_rate * db\n",
    "\n",
    "    # Print loss every 100 iterations\n",
    "    if i % 100 == 0:\n",
    "        loss = np.mean((y_pred - y) ** 2)\n",
    "        print(f\"Epoch {i}: Loss = {loss:.4f}, w = {w:.4f}, b = {b:.4f}\")\n",
    "\n",
    "# Final model\n",
    "print(f\"\\nFinal model: y = {w:.2f}x + {b:.2f}\")\n",
    "\n",
    "# Plotting\n",
    "plt.scatter(x, y, color='blue', label='Actual Points')\n",
    "plt.plot(x, w*x + b, color='red', label='Predicted Line')\n",
    "plt.title(\"Linear Regression using Gradient Descent\")\n",
    "plt.xlabel(\"x\")\n",
    "plt.ylabel(\"y\")\n",
    "plt.legend()\n",
    "plt.grid(True)\n",
    "plt.show()"
   ]
  },
  {
   "cell_type": "code",
   "execution_count": 6,
   "id": "7ddd8de7-256a-4ea2-8415-18d96196f1b2",
   "metadata": {},
   "outputs": [
    {
     "name": "stdout",
     "output_type": "stream",
     "text": [
      "5 5\n"
     ]
    }
   ],
   "source": [
    "# arr = [1,2,3,4,5]\n",
    "# arr1 = np.array(arr)\n",
    "# print(len(arr),len(arr1))"
   ]
  },
  {
   "cell_type": "code",
   "execution_count": null,
   "id": "af3436cf-ca18-4731-ab77-2adf3bf9f549",
   "metadata": {},
   "outputs": [],
   "source": []
  },
  {
   "cell_type": "code",
   "execution_count": null,
   "id": "82f4e0b3-e808-47d8-ba5a-f2983bbd8927",
   "metadata": {},
   "outputs": [],
   "source": []
  },
  {
   "cell_type": "code",
   "execution_count": null,
   "id": "71ee7259-63da-4362-a4a8-b1fc6861db6b",
   "metadata": {},
   "outputs": [],
   "source": []
  },
  {
   "cell_type": "code",
   "execution_count": null,
   "id": "1976048e-8530-4c97-8f7d-0a40467ec1a0",
   "metadata": {},
   "outputs": [],
   "source": []
  },
  {
   "cell_type": "code",
   "execution_count": null,
   "id": "f8d10372-79d3-4f5a-b6ea-4885d8f83d7f",
   "metadata": {},
   "outputs": [],
   "source": []
  },
  {
   "cell_type": "code",
   "execution_count": null,
   "id": "31106465-5254-434a-86fa-69ed4749b5bc",
   "metadata": {},
   "outputs": [],
   "source": []
  }
 ],
 "metadata": {
  "kernelspec": {
   "display_name": "Python 3 (ipykernel)",
   "language": "python",
   "name": "python3"
  },
  "language_info": {
   "codemirror_mode": {
    "name": "ipython",
    "version": 3
   },
   "file_extension": ".py",
   "mimetype": "text/x-python",
   "name": "python",
   "nbconvert_exporter": "python",
   "pygments_lexer": "ipython3",
   "version": "3.13.1"
  }
 },
 "nbformat": 4,
 "nbformat_minor": 5
}
