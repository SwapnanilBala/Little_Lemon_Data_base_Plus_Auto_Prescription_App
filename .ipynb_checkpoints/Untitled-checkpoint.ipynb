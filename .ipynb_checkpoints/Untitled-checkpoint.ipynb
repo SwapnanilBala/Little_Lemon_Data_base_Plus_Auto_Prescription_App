{
 "cells": [
  {
   "cell_type": "code",
   "execution_count": 1,
   "id": "bf30a87f-ddad-41d9-bd6d-8fb1c524af5b",
   "metadata": {},
   "outputs": [
    {
     "name": "stdout",
     "output_type": "stream",
     "text": [
      "['b', 'c', 'd']\n"
     ]
    }
   ],
   "source": [
    "pop = ['abc','bcd','cde']\n",
    "lol = []\n",
    "for items in pop:\n",
    "    lol.append(items[1])\n",
    "\n",
    "print(lol)"
   ]
  },
  {
   "cell_type": "code",
   "execution_count": 2,
   "id": "52523039-b722-41c8-b041-6082b60a6a54",
   "metadata": {},
   "outputs": [
    {
     "name": "stdout",
     "output_type": "stream",
     "text": [
      "bcd\n"
     ]
    }
   ],
   "source": [
    "answer = ''.join(lol)\n",
    "print(answer)"
   ]
  },
  {
   "cell_type": "markdown",
   "id": "a746b5c0-6172-453f-8214-82cbc98f10af",
   "metadata": {},
   "source": [
    "#### *Interesting Method of generating a list of random ints*"
   ]
  },
  {
   "cell_type": "code",
   "execution_count": 3,
   "id": "c997071e-d8c1-46b2-8417-faeb1fa843c1",
   "metadata": {},
   "outputs": [
    {
     "name": "stdout",
     "output_type": "stream",
     "text": [
      "[53, 11, 54, 33, 41, 40, 5, 83, 141, 94, 129, 75, 139, 124, 3, 69, 50, 134, 123, 77, 80, 121, 99, 51, 34, 116, 7, 132, 92, 74, 73, 131, 49, 76, 138]\n"
     ]
    }
   ],
   "source": [
    "import numpy as np\n",
    "arr = [np.random.randint(3,144) for x in range(35)]\n",
    "print(arr)"
   ]
  },
  {
   "cell_type": "code",
   "execution_count": null,
   "id": "afede4ba-057c-4cf1-a2ac-52041fbc1ac2",
   "metadata": {},
   "outputs": [],
   "source": []
  },
  {
   "cell_type": "markdown",
   "id": "f6626bb2-9476-42ce-ad9f-dd3d0e9538fd",
   "metadata": {},
   "source": [
    "### **QuickSort ALgorithm**"
   ]
  },
  {
   "cell_type": "code",
   "execution_count": 4,
   "id": "4a171fa8-1484-4bb1-b3de-1462882132b0",
   "metadata": {},
   "outputs": [
    {
     "name": "stdout",
     "output_type": "stream",
     "text": [
      "[3, 4, 6, 10, 12, 12, 13, 15, 16, 18, 18, 19, 21, 22, 23, 24, 26, 30, 35, 36, 38, 39, 43, 45, 50, 51, 53, 60, 65, 66, 69, 79, 79, 82, 82, 87, 87, 88, 89, 91, 94, 94, 97, 97, 98, 98, 104, 109, 110, 113, 115, 117, 118, 121, 122, 126, 127, 128, 128, 132, 133, 134, 141, 142, 143]\n"
     ]
    }
   ],
   "source": [
    "import numpy as np\n",
    "\n",
    "def quicksort(array,low,high):\n",
    "    if low < high:\n",
    "        pi = partition(array,low,high)\n",
    "        quicksort(array,low,pi-1)\n",
    "        quicksort(array,pi+1,high)\n",
    "\n",
    "    return array\n",
    "\n",
    "\n",
    "def quickswap(array,a,b):\n",
    "    array[a],array[b] = array[b],array[a]\n",
    "\n",
    "def partition(array,low,high):\n",
    "    kingpin = array[high]\n",
    "    i = low - 1\n",
    "    for j in range(low,high):\n",
    "        if array[j] < kingpin:\n",
    "            i +=1\n",
    "            quickswap(array,i,j)\n",
    "    quickswap(array,i+1,high)\n",
    "    return i+1\n",
    "\n",
    "\n",
    "if __name__ == '__main__':\n",
    "    arr = [np.random.randint(3,144) for x in range(65)]\n",
    "    print(quicksort(arr,0,len(arr)-1))"
   ]
  },
  {
   "cell_type": "markdown",
   "id": "9c5f3b43-d251-4e54-8f5a-cde2fb2cf60a",
   "metadata": {},
   "source": [
    "#### Good Try"
   ]
  },
  {
   "cell_type": "code",
   "execution_count": 5,
   "id": "a9112834-4943-46be-ad2b-462019a5b4f4",
   "metadata": {},
   "outputs": [
    {
     "name": "stdout",
     "output_type": "stream",
     "text": [
      "[(2, 4), (3, 3), (1, 5)]\n"
     ]
    }
   ],
   "source": [
    "def twosum(nums: list, target: int):\n",
    "    seen = set(nums)\n",
    "    answer_set = set()\n",
    "    for items in nums:\n",
    "        complement = target - items\n",
    "        if complement in seen:\n",
    "            answer_set.add(tuple(sorted((items,complement)))) \n",
    "\n",
    "    return [items for items in list(answer_set)]\n",
    "\n",
    "if __name__ == \"__main__\":\n",
    "    random_list = [1,2,3,4,5,6,7,8,9]\n",
    "    print(twosum(random_list,6))"
   ]
  },
  {
   "cell_type": "markdown",
   "id": "6c01eb74-5f8d-4e60-a991-f040f17f8e53",
   "metadata": {},
   "source": [
    "### **The twosum Algorithm**"
   ]
  },
  {
   "cell_type": "code",
   "execution_count": 6,
   "id": "79e8c5ba-57b4-45bb-abe5-6551f3978521",
   "metadata": {},
   "outputs": [
    {
     "name": "stdout",
     "output_type": "stream",
     "text": [
      "[(2, 4), (1, 5)]\n"
     ]
    }
   ],
   "source": [
    "def twosum(nums: list, target: int):\n",
    "    seen = set()\n",
    "    answer_set = set()\n",
    "\n",
    "    for num in nums:\n",
    "        complement = target - num\n",
    "        if complement in seen:\n",
    "            # Store in sorted order to avoid (2,4) vs (4,2) duplication\n",
    "            answer_set.add(tuple(sorted((num, complement))))\n",
    "        seen.add(num)  # Add after check to avoid self-pairing unless duplicate\n",
    "\n",
    "    return list(answer_set)\n",
    "\n",
    "if __name__ == \"__main__\":\n",
    "    random_list = [1, 2, 3, 4, 5, 6, 7, 8, 9]\n",
    "    print(twosum(random_list, 6))\n"
   ]
  },
  {
   "cell_type": "markdown",
   "id": "62f0cdc0-5035-4ee7-bf93-6f53ca4bc8e3",
   "metadata": {},
   "source": [
    "### **Breadth-First-Search Algorithm**"
   ]
  },
  {
   "cell_type": "code",
   "execution_count": 7,
   "id": "8f8e3653-6966-437f-b3f6-7fc44cb000b2",
   "metadata": {},
   "outputs": [
    {
     "name": "stdout",
     "output_type": "stream",
     "text": [
      "['A', 'D', 'G', 'H']\n"
     ]
    }
   ],
   "source": [
    "from collections import deque\n",
    "\n",
    "Graph = {'A':['B','C','D'],\n",
    "         'B':['E','F'],\n",
    "         'C':[],\n",
    "         'D':['G'],\n",
    "         'E':[],\n",
    "         'F':[],\n",
    "         'G':['H'],\n",
    "         'H':[]}\n",
    "\n",
    "def bfs_shortest_distance(graph: dict, start: str, end: str):\n",
    "    queue = deque()\n",
    "    visited = set()\n",
    "    queue.append([start])\n",
    "    while queue:\n",
    "        path = queue.popleft()\n",
    "        node = path[-1]\n",
    "        if node == end:\n",
    "            return path\n",
    "        if node not in visited:\n",
    "            visited.add(node)\n",
    "            for diff_paths in graph[node]:\n",
    "                new_path = list(path)\n",
    "                new_path.append(diff_paths)\n",
    "                queue.append(new_path)\n",
    "\n",
    "    return None\n",
    "\n",
    "if __name__ == \"__main__\":\n",
    "    print(bfs_shortest_distance(Graph,'A','H'))"
   ]
  },
  {
   "cell_type": "markdown",
   "id": "3a7ea58e-ac05-426e-9f40-5cca67dcb00f",
   "metadata": {},
   "source": [
    "### **threesum Algorithm**"
   ]
  },
  {
   "cell_type": "code",
   "execution_count": 9,
   "id": "ea840278-6882-4fac-8fe3-4f1045fbe4ef",
   "metadata": {},
   "outputs": [
    {
     "name": "stdout",
     "output_type": "stream",
     "text": [
      "[(1, 2, 6), (2, 3, 4), (1, 3, 5)]\n"
     ]
    }
   ],
   "source": [
    "def threeSum(nums: list, target: int):\n",
    "    nums.sort()\n",
    "    numbers = set()\n",
    "    for i in range(0, len(nums) - 2):\n",
    "        new_target = target - nums[i]\n",
    "        left = i + 1\n",
    "        right = len(nums) - 1\n",
    "        while left < right:\n",
    "            if nums[left] + nums[right] == new_target:\n",
    "                numbers.add(tuple(sorted((nums[i], nums[left], nums[right]))))\n",
    "                left += 1\n",
    "                right -= 1\n",
    "            elif nums[left] + nums[right] < new_target:\n",
    "                left += 1\n",
    "            else:\n",
    "                right -= 1\n",
    "\n",
    "    return list(numbers)\n",
    "\n",
    "if __name__ == '__main__':\n",
    "    print(threeSum([1, 2, 3, 4, 5, 6, 7, 8, 9, 10], 9))\n",
    "\n",
    "        \n",
    "        \n",
    "        "
   ]
  },
  {
   "cell_type": "code",
   "execution_count": null,
   "id": "3f6f1eb4-0580-46af-abe1-78cb4dc4ce11",
   "metadata": {},
   "outputs": [],
   "source": []
  }
 ],
 "metadata": {
  "kernelspec": {
   "display_name": "Python 3 (ipykernel)",
   "language": "python",
   "name": "python3"
  },
  "language_info": {
   "codemirror_mode": {
    "name": "ipython",
    "version": 3
   },
   "file_extension": ".py",
   "mimetype": "text/x-python",
   "name": "python",
   "nbconvert_exporter": "python",
   "pygments_lexer": "ipython3",
   "version": "3.13.1"
  }
 },
 "nbformat": 4,
 "nbformat_minor": 5
}
