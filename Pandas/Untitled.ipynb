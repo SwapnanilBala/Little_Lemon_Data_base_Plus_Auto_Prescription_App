{
 "cells": [
  {
   "cell_type": "markdown",
   "id": "7adf769d-57f2-4a1d-9bec-0ce254bd9c2d",
   "metadata": {},
   "source": [
    "   ## %Welcome Fellow Wanderer%  ->  this is the intro to the  ->  Pandas Basics "
   ]
  },
  {
   "cell_type": "markdown",
   "id": "77a96998-55bd-42b7-ac30-39a41b0bf143",
   "metadata": {},
   "source": [
    "### First and formost Pandas is a special package wihtin the vast realm of python libraries, it's one of the essintials if your plans incorporate Data Manipulation. \n",
    "\n",
    "##### With that  being said lets learn a few things about it.\n",
    "\n",
    "\n"
   ]
  },
  {
   "cell_type": "code",
   "execution_count": 4,
   "id": "e43752fe-4068-4a0f-9e1c-55dd4fd5a0a2",
   "metadata": {},
   "outputs": [],
   "source": [
    "# To import pandas we type - 'import pandas as pd' (don't use the '' and you can name it anything but pd is recommended)\n",
    "# Pandas works superfast with numpy arrays thats why its also recommended to know some basics of numpy beforehand\n",
    "\n",
    "import numpy as np \n",
    "import pandas as pd"
   ]
  },
  {
   "cell_type": "markdown",
   "id": "55ed5ffd-990b-44dd-9fc2-03407a292f27",
   "metadata": {},
   "source": [
    "### Series\n",
    "\n",
    "##### A series is a one-dimensional array-like object containing a sequence of values(of similar types (like numpy)) of the same type and an associated array of data labels called index.\n",
    "\n"
   ]
  },
  {
   "cell_type": "code",
   "execution_count": 5,
   "id": "a5d97e90-8ef4-464d-b693-595ce5d31d67",
   "metadata": {},
   "outputs": [
    {
     "name": "stdout",
     "output_type": "stream",
     "text": [
      "0    2\n",
      "1    4\n",
      "2    1\n",
      "3    3\n",
      "4    5\n",
      "5    7\n",
      "6    8\n",
      "dtype: int64\n"
     ]
    }
   ],
   "source": [
    "# The Simplest Series is formed from only an array of Data.\n",
    "obj = pd.Series([2,4,1,3,5,7,8]) # Keep in mind that python is case sensitive so use -- > 'pd.Series'\n",
    "print(obj)"
   ]
  },
  {
   "cell_type": "code",
   "execution_count": 10,
   "id": "d5d6a1ad-8293-47ac-95c7-89e0a4b56821",
   "metadata": {},
   "outputs": [
    {
     "name": "stdout",
     "output_type": "stream",
     "text": [
      "KKR     0\n",
      "CSK     1\n",
      "RCB     2\n",
      "KXIP    3\n",
      "MI      4\n",
      "dtype: int64\n",
      " \n",
      "Teams\n",
      "KKR    0\n",
      "CSK    1\n",
      "RCB    2\n",
      "Name: Scores, dtype: int64\n"
     ]
    }
   ],
   "source": [
    "# now the previous one looks ugly we can alos do this to make it look interesting\n",
    "IPL_Teams = ['KKR','CSK','RCB','KXIP','MI']\n",
    "# Because there are 5 teams we need an array that has 5 values\n",
    "Scores = np.arange(5) # builds an array having values array([0 1 2 3 4 ])\n",
    "# Lets now make it a bit more interesting\n",
    "Data_Series = pd.Series(Scores, index = IPL_Teams)\n",
    "print(Data_Series)\n",
    "print(\" \")\n",
    "# Now this looks a bit unpolished, lets add some mopre detailing to it\n",
    "Data_Series.name ='Scores'\n",
    "Data_Series.index.name = 'Teams'\n",
    "\n",
    "print(Data_Series.head(3)) # We can also use the head() function to start from the beginning and alos add a limiter in this case its 3\n",
    "# in the end you could see that because its a series, so the only column stands for Scores"
   ]
  },
  {
   "cell_type": "code",
   "execution_count": 11,
   "id": "d0e83abe-3b5e-4ef0-b781-73525df48348",
   "metadata": {},
   "outputs": [
    {
     "name": "stdout",
     "output_type": "stream",
     "text": [
      "RangeIndex(start=0, stop=5, step=1)\n"
     ]
    }
   ],
   "source": [
    "# Miscsellaneous\n",
    "arr = pd.Series([-1, 5, -3, 6, 2])\n",
    "print(arr.index) # this prints out some details of the Series"
   ]
  },
  {
   "cell_type": "markdown",
   "id": "14b30ad6-e64d-47d9-a428-f721d99dbab5",
   "metadata": {},
   "source": [
    "####   Series Manipulation "
   ]
  },
  {
   "cell_type": "code",
   "execution_count": 34,
   "id": "2a1635ba-e3d2-4309-88fa-849c3353433e",
   "metadata": {},
   "outputs": [
    {
     "name": "stdout",
     "output_type": "stream",
     "text": [
      "o0    0\n",
      "o1    1\n",
      "o2    2\n",
      "o3    3\n",
      "o4    4\n",
      "o5    5\n",
      "o6    6\n",
      "o7    7\n",
      "o8    8\n",
      "dtype: int64\n"
     ]
    }
   ],
   "source": [
    "unique_name = 'o'\n",
    "list_u = sorted([5,2,6,3,4,1,8,7,0]) # putting some random values that we will add to the index_builder\n",
    "\n",
    "index_builder = [unique_name+str(x) for x in list_u] \n",
    "# see this is quite interesting we are takinf the values from list_u one by one and then adding it to the unique_name (generator object)\n",
    "\n",
    "obj1 = pd.Series(list_u, index = index_builder)\n",
    "print(obj1)\n"
   ]
  },
  {
   "cell_type": "code",
   "execution_count": 21,
   "id": "42804851-f874-4489-952a-9cd75d3b6b35",
   "metadata": {},
   "outputs": [
    {
     "name": "stdout",
     "output_type": "stream",
     "text": [
      "1\n"
     ]
    }
   ],
   "source": [
    "type(obj1['ossi_4']) # this is a numpy.int64 type file\n",
    "# now pandas sort of works like a dictionary, see below\n",
    "print(obj1['ossi_1']) # if you execute only obj1['ossi_1'] without the print statement it will return a numpy.int64 thing \n",
    "# you will get the relevant value"
   ]
  },
  {
   "cell_type": "markdown",
   "id": "6627d094-707a-44cd-b4e4-0935ba7bcf28",
   "metadata": {},
   "source": [
    "#### Similarity in Dictionary ( Hash - Tables )"
   ]
  },
  {
   "cell_type": "code",
   "execution_count": 32,
   "id": "d0b0af94-df68-4197-a01f-f8537b6ecd97",
   "metadata": {},
   "outputs": [
    {
     "data": {
      "text/plain": [
       "5"
      ]
     },
     "execution_count": 32,
     "metadata": {},
     "output_type": "execute_result"
    }
   ],
   "source": [
    "# Just for example\n",
    "new_dict = dict()\n",
    "new_dict['Gogol'] = 0\n",
    "new_dict['Guddu'] = 0\n",
    "penalty_scores = [1,1,1,1,0,1,1,0,1,0,0,0,1,1,0,1]\n",
    "# print(len(penalty_scores))\n",
    "for i in range(0,len(penalty_scores)-1,2):\n",
    "    new_dict['Gogol'] += penalty_scores[i]\n",
    "    new_dict['Guddu'] += penalty_scores[i+1]\n",
    "\n",
    "# print(new_dict)\n",
    "\n",
    "#similar to the pandas method\n",
    "\n",
    "new_dict['Guddu'] # this returns the relevant value, like what we saw in pd.Series "
   ]
  },
  {
   "cell_type": "code",
   "execution_count": 41,
   "id": "6da071e8-fc3a-40cb-94ab-3ea8507276d1",
   "metadata": {},
   "outputs": [
    {
     "name": "stdout",
     "output_type": "stream",
     "text": [
      "\n",
      "<class 'pandas.core.series.Series'>\n"
     ]
    }
   ],
   "source": [
    "# Another interesting thing is -->\n",
    "obj1[['o1','o3','o5']] \n",
    "# This returns the values in a table format only the ones you put within the brackeets, not putting the bracketts will throw an error\n",
    "# because check this out\n",
    "\n",
    "print(\"\")\n",
    "print(type(obj1[['o1','o3','o5']]))  # remove the type to get the values\n",
    "# <class 'pandas.core.series.Series'>\n",
    "\n",
    "# print(type(obj1['o4','o6'])) # don't run\n",
    "# 'key of type tuple not found and not a MultiIndex' this is the problem, the pandas thinks that its an single object but we gave it multiplew so it could not process properly"
   ]
  },
  {
   "cell_type": "code",
   "execution_count": 42,
   "id": "380dd5f6-6ae8-4500-99e1-e9dc06a4f1e7",
   "metadata": {},
   "outputs": [
    {
     "data": {
      "text/plain": [
       "o4    4\n",
       "o5    5\n",
       "o6    6\n",
       "o7    7\n",
       "o8    8\n",
       "dtype: int64"
      ]
     },
     "execution_count": 42,
     "metadata": {},
     "output_type": "execute_result"
    }
   ],
   "source": [
    "obj1[obj1>3] # This will output the details of the objects whose values are more than 3 (in a tabular Structure)"
   ]
  },
  {
   "cell_type": "code",
   "execution_count": 43,
   "id": "09e63081-6f55-4cbf-a4d9-cedd4553765f",
   "metadata": {},
   "outputs": [
    {
     "name": "stdout",
     "output_type": "stream",
     "text": [
      "o0       1.000000\n",
      "o1       2.718282\n",
      "o2       7.389056\n",
      "o3      20.085537\n",
      "o4      54.598150\n",
      "o5     148.413159\n",
      "o6     403.428793\n",
      "o7    1096.633158\n",
      "o8    2980.957987\n",
      "dtype: float64\n"
     ]
    }
   ],
   "source": [
    "# now we will apply the exponential function on the pandas series to see what we get\n",
    "print(np.exp(obj1)) # Still we get the key pair values in a tabular structure (more like a dict)"
   ]
  },
  {
   "cell_type": "code",
   "execution_count": 44,
   "id": "89ed7348-d8de-43db-aa75-0a97def90025",
   "metadata": {},
   "outputs": [
    {
     "name": "stdout",
     "output_type": "stream",
     "text": [
      "True\n"
     ]
    }
   ],
   "source": [
    "# we can also search for particular keys to get their corresponding values\n",
    "print('o6' in obj1) # as the item is present in the form of a key in the obj1 this will return True"
   ]
  },
  {
   "cell_type": "code",
   "execution_count": 51,
   "id": "11efda51-c02d-4e9d-867b-839891cfd26a",
   "metadata": {},
   "outputs": [
    {
     "name": "stdout",
     "output_type": "stream",
     "text": [
      "Richard      5\n",
      "Solemon      7\n",
      "Richardo    15\n",
      "dtype: int64\n",
      "<class 'dict'>\n"
     ]
    }
   ],
   "source": [
    "# Lets say we have a dictionary that looks like this\n",
    "Pool_Records = {'Richard': 5,\n",
    "                'Solemon': 7,\n",
    "                'Richardo': 15} \n",
    "# Assuming the keys are the names of the clients and the numbers represent the total number logins they have performed\n",
    "# We can easily transfor the dictionary to a pandas series, for that we have to do: \n",
    "pandas_series = pd.Series(data = Pool_Records) \n",
    "print(pandas_series)\n",
    "# we could convert this pandas series back to the dictionary by using the .to_dict() function\n",
    "\n",
    "new_dict = pandas_series.to_dict()\n",
    "print(type(new_dict)) # Now this acts as a dictionary\n"
   ]
  },
  {
   "cell_type": "code",
   "execution_count": 61,
   "id": "bba2101f-81ca-4a29-b8f7-b6cae88dfcec",
   "metadata": {},
   "outputs": [
    {
     "name": "stdout",
     "output_type": "stream",
     "text": [
      "Rohit       183\n",
      "Gill         26\n",
      "Virat        62\n",
      "KL Rahul     77\n",
      "Hardik      162\n",
      "Jadeja       46\n",
      "Surya       108\n",
      "Panti       193\n",
      "dtype: int64\n"
     ]
    }
   ],
   "source": [
    "import random\n",
    "players = ['Rohit', 'Gill', 'Virat', 'KL Rahul', 'Hardik', 'Jadeja', 'Surya', 'Panti', 'Shami', 'Bumrah', 'Kuldeep'] # name of some players\n",
    "Scores_Dict = {player: random.randint(0,200) for player in players}\n",
    "# print(Scores_Dict)\n",
    "# Assigning to 0 values\n",
    "Scores_Dict['Raidu'] = 0 \n",
    "Scores_Dict['Rahane'] = 0\n",
    "\n",
    "series_1 = pd.Series(data = Scores_Dict)\n",
    "print(series_1.head(8))"
   ]
  },
  {
   "cell_type": "markdown",
   "id": "8c40c6b8-16fb-4ac6-88ff-e65845a187e3",
   "metadata": {},
   "source": [
    "#### Thing is with methods such as .isna , .notna etc you need not to write print all the time "
   ]
  },
  {
   "cell_type": "code",
   "execution_count": 63,
   "id": "c255b617-f44e-45bf-9667-a9e5d95befda",
   "metadata": {},
   "outputs": [
    {
     "data": {
      "text/plain": [
       "Rohit       False\n",
       "Gill        False\n",
       "Virat       False\n",
       "KL Rahul    False\n",
       "Hardik      False\n",
       "Jadeja      False\n",
       "Surya       False\n",
       "Panti       False\n",
       "Shami       False\n",
       "Bumrah      False\n",
       "Kuldeep     False\n",
       "Raidu       False\n",
       "Rahane      False\n",
       "dtype: bool"
      ]
     },
     "execution_count": 63,
     "metadata": {},
     "output_type": "execute_result"
    }
   ],
   "source": [
    "pd.isna(series_1) # This Checks whether the corresponding value is 0 or not\n",
    "pd.notna(series_1) # Does quite the opposite of the previous one\n",
    "# you could also do this instead\n",
    "series_1.isna() # Litrerally does the same thing as the first one"
   ]
  },
  {
   "cell_type": "code",
   "execution_count": 66,
   "id": "d114a53c-3e41-4160-90aa-d3998933d7d7",
   "metadata": {},
   "outputs": [
    {
     "name": "stdout",
     "output_type": "stream",
     "text": [
      "City: Las Vegas Rating: *****\n",
      "\n",
      "City: Boston Rating: ****\n",
      "\n",
      "City: New York Rating: ***\n",
      "\n",
      "City: Torronto Rating: *\n",
      "\n",
      "City: New Orleans Rating: ***\n",
      "\n",
      "Las Vegas     *****\n",
      "Torronto          *\n",
      "New Jersey      NaN\n",
      "California      NaN\n",
      "New York        ***\n",
      "Boston         ****\n",
      "dtype: object\n"
     ]
    }
   ],
   "source": [
    "# Just a random Dictionary\n",
    "\n",
    "lang = {'Las Vegas':'*****',\n",
    "        'Boston':'****',\n",
    "        'New York':'***',\n",
    "        'Torronto':'*',\n",
    "        'New Orleans':'***'}\n",
    "for key, values in lang.items():\n",
    "    print(f'City: {key} Rating: {values}\\n')\n",
    "\n",
    "# now we create another series obj on the converted version of this dict\n",
    "\n",
    "series2 = pd.Series(lang)\n",
    "cities = ['Las Vegas','Torronto','New Jersey','California','New York','Boston']\n",
    "series3 = pd.Series(lang, index = cities)\n",
    "print(series3) # This will keep the previous values but the new keys that we had put as index will be empty\n",
    "    "
   ]
  },
  {
   "cell_type": "code",
   "execution_count": null,
   "id": "fe82effa-84b9-4200-bc18-e2c073081e7d",
   "metadata": {},
   "outputs": [],
   "source": []
  },
  {
   "cell_type": "code",
   "execution_count": null,
   "id": "08f47f70-91db-4cdb-90ed-39b178a34be8",
   "metadata": {},
   "outputs": [],
   "source": []
  },
  {
   "cell_type": "code",
   "execution_count": null,
   "id": "f9f3ea1c-2adb-4751-8679-507d4b72d8d9",
   "metadata": {},
   "outputs": [],
   "source": []
  }
 ],
 "metadata": {
  "kernelspec": {
   "display_name": "Python 3 (ipykernel)",
   "language": "python",
   "name": "python3"
  },
  "language_info": {
   "codemirror_mode": {
    "name": "ipython",
    "version": 3
   },
   "file_extension": ".py",
   "mimetype": "text/x-python",
   "name": "python",
   "nbconvert_exporter": "python",
   "pygments_lexer": "ipython3",
   "version": "3.13.1"
  }
 },
 "nbformat": 4,
 "nbformat_minor": 5
}
