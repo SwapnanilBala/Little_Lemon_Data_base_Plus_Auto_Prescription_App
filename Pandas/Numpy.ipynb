{
 "cells": [
  {
   "cell_type": "markdown",
   "id": "8540f309-183f-4491-848a-9b28b2335051",
   "metadata": {},
   "source": [
    "### Numpy Tutorial\n",
    "- it's a python library mainly used for vector type executions (all at once).\n",
    "- it's used for working with arrays.\n",
    "- it's short for Numerical Python."
   ]
  },
  {
   "cell_type": "code",
   "execution_count": 1,
   "id": "f8fcacd2-ff7e-470a-aaa9-eb61717b9d69",
   "metadata": {},
   "outputs": [
    {
     "name": "stdout",
     "output_type": "stream",
     "text": [
      "[1 2 3 4 5]\n",
      "<class 'numpy.ndarray'>\n"
     ]
    }
   ],
   "source": [
    "# importing the numpy module\n",
    "import numpy as np\n",
    "arr = np.array([1,2,3,4,5])\n",
    "print(arr)\n",
    "print(type(arr)) # see the type carefullt here"
   ]
  },
  {
   "cell_type": "markdown",
   "id": "77b66081-7fa4-4439-87b2-07e55734c298",
   "metadata": {},
   "source": [
    "#### So whats Numpy excactly in more details\n",
    "- It also has functions for working in domain of linear algebra, fourier transform, lots of workability with pandas for data manipulation mostly in datapases and matrices.\n",
    "- NumPy was created in 2005 by Travis Oliphant. It is an open source project and you can use it freely."
   ]
  },
  {
   "cell_type": "markdown",
   "id": "d72866f1-dc81-46b8-8263-bed41c33389a",
   "metadata": {},
   "source": [
    "#### Why even consider using numpy instead of normal list or tuple or anything like that?\n",
    "- NumPy aims to provide an array object that is up to 50x faster than traditional Python lists.\n",
    "- The array object in NumPy is called ndarray, it provides a lot of supporting functions that make working with ndarray very easy.\n",
    "- Arrays are quite frequently used in data science , where we speed and resources are very important"
   ]
  },
  {
   "cell_type": "markdown",
   "id": "cf7d12a2-92bd-421f-923d-788dc35bdc07",
   "metadata": {},
   "source": [
    "#### Some more insights into numpy\n",
    "\n",
    "- Numpy arrays are stored at one `continuous place in memory` unlike lists\n",
    "- this behavior is called locality of reference computer science.\n",
    "- Also it's also optimized to work significantly faster with the latest CPU architectures."
   ]
  },
  {
   "cell_type": "code",
   "execution_count": 2,
   "id": "68cf1747-c49c-40b0-a205-9bfbdb4892ee",
   "metadata": {},
   "outputs": [],
   "source": [
    "# if you do not have the numpy instaled in your system, go to command prompt\n",
    "# and type pip install numpy and hit enter, this should install the numpy package into your path (where the python files are located)"
   ]
  },
  {
   "cell_type": "code",
   "execution_count": 3,
   "id": "56901790-5b4c-48c0-953d-ebec8ca4351b",
   "metadata": {},
   "outputs": [
    {
     "name": "stdout",
     "output_type": "stream",
     "text": [
      "2.2.0\n"
     ]
    }
   ],
   "source": [
    "# to check which versio of python you are using you can check like this\n",
    "print(np.__version__) # at the time of writing this, the version was 2.2.0"
   ]
  },
  {
   "cell_type": "code",
   "execution_count": 4,
   "id": "2e6db4c4-3958-4ef2-a47c-35100a73bd13",
   "metadata": {},
   "outputs": [
    {
     "name": "stdout",
     "output_type": "stream",
     "text": [
      "[1 2 3 4 5] [1 2 3 4 5]\n"
     ]
    }
   ],
   "source": [
    "# we can use both list or tuple to create a numpy array like this\n",
    "arr_tup = np.array((1,2,3,4,5))\n",
    "arr_lis = np.array([1,2,3,4,5])\n",
    "\n",
    "print(arr_tup, arr_lis) \n",
    "# see both the outputs are excactly the same \n",
    "# however when you look closer into the output you'll notice that\n",
    "# the elements withtin the array aren't seperated by anything like ','."
   ]
  },
  {
   "cell_type": "markdown",
   "id": "405544e6-5724-47f3-8cad-97b76bbb27b0",
   "metadata": {},
   "source": [
    "#### Dimensions in Arrays\n",
    "-  a dimension in arrrays is one level of array depth(nested arrays)\n",
    "- `nested arrays` means that they have arrays as their elements"
   ]
  },
  {
   "cell_type": "code",
   "execution_count": 5,
   "id": "64b50aa5-bac0-4f11-b97a-092ef2852fe1",
   "metadata": {},
   "outputs": [
    {
     "name": "stdout",
     "output_type": "stream",
     "text": [
      "34\n"
     ]
    }
   ],
   "source": [
    "# This is a 0-D array\n",
    "arr = np.array(34)\n",
    "print(arr) # no bracketts, nothing just one element"
   ]
  },
  {
   "cell_type": "code",
   "execution_count": 6,
   "id": "c1892f3d-5d35-4907-abed-7266454d48cb",
   "metadata": {},
   "outputs": [
    {
     "name": "stdout",
     "output_type": "stream",
     "text": [
      "[1 2 3 4 5]\n"
     ]
    }
   ],
   "source": [
    "# Time for 1-D array\n",
    "arr = np.array([1,2,3,4,5]) \n",
    "# for now we have passed a list inside the np.array argument,\n",
    "# we also could have used a tuple instead of a list\n",
    "print(arr) # see the values are inside first degree []"
   ]
  },
  {
   "cell_type": "code",
   "execution_count": 7,
   "id": "43e8a30f-a6d8-4936-b725-dc23657d4199",
   "metadata": {},
   "outputs": [
    {
     "name": "stdout",
     "output_type": "stream",
     "text": [
      "[[1 2 3]\n",
      " [4 5 6]]\n"
     ]
    }
   ],
   "source": [
    "# Time for 2-D array\n",
    "arr = np.array([[1,2,3],[4,5,6]])\n",
    "print(arr) \n",
    "# see this thing because now we have nested arrays within the main array as values\n",
    "# the degree becomes two and you can clearly see the [[]] - here double"
   ]
  },
  {
   "cell_type": "code",
   "execution_count": 8,
   "id": "c7789304-07af-42b3-ad48-e520e786d0b0",
   "metadata": {},
   "outputs": [
    {
     "name": "stdout",
     "output_type": "stream",
     "text": [
      "[[[1 2 3]\n",
      "  [4 5 6]]\n",
      "\n",
      " [[1 2 3]\n",
      "  [4 5 6]]]\n"
     ]
    }
   ],
   "source": [
    "# 3-D arrays are quite similar in ideology, difference is that \n",
    "# we will have multiple nested arrays as elements within nested arrays \n",
    "arr = np.array([[[1, 2, 3], [4, 5, 6]], [[1, 2, 3], [4, 5, 6]]])\n",
    "print(arr) # lookout for the [[[],[]],[[],[]]]"
   ]
  },
  {
   "cell_type": "markdown",
   "id": "f47180b8-f408-4362-940a-55c25f80986b",
   "metadata": {},
   "source": [
    "- if you wanted to check the dimensions if any array here is how you'd do it\n",
    "  `use the ndim`"
   ]
  },
  {
   "cell_type": "code",
   "execution_count": 10,
   "id": "f980eaf0-23c4-4b67-ba5e-9478532437c8",
   "metadata": {},
   "outputs": [
    {
     "name": "stdout",
     "output_type": "stream",
     "text": [
      "0\n",
      "1\n",
      "2\n",
      "3\n"
     ]
    }
   ],
   "source": [
    "a = np.array(42)\n",
    "b = np.array([1, 2, 3, 4, 5])\n",
    "c = np.array([[1, 2, 3], [4, 5, 6]])\n",
    "d = np.array([[[1, 2, 3], [4, 5, 6]], [[1, 2, 3], [4, 5, 6]]])\n",
    "\n",
    "print(a.ndim) # 0 degree\n",
    "print(b.ndim) # 1 degree\n",
    "print(c.ndim) # 2 degree\n",
    "print(d.ndim) # 3 degree"
   ]
  },
  {
   "cell_type": "markdown",
   "id": "5da31b90-c62b-49bc-a4c9-2d31f31f3b8c",
   "metadata": {},
   "source": [
    "### Higher Dimensional Arrays\n",
    "- An array can have any number of dimensions.\n",
    "- When the array is created, you can define the number of dimensions by using the ndmin\n",
    "argument"
   ]
  },
  {
   "cell_type": "code",
   "execution_count": 12,
   "id": "84067b7f-7547-43e7-93f2-68a0f4ed38df",
   "metadata": {},
   "outputs": [
    {
     "name": "stdout",
     "output_type": "stream",
     "text": [
      "[[[[[1 2 3 4 5]]]]]\n",
      "the number of dimensions are: 5\n"
     ]
    }
   ],
   "source": [
    "array = np.array([1,2,3,4,5], ndmin = 5)\n",
    "print(array)\n",
    "print(f'the number of dimensions are: {array.ndim}') \n",
    "# see the [[[[[]]]]] enclosing"
   ]
  },
  {
   "cell_type": "code",
   "execution_count": 13,
   "id": "ddf38e18-76dd-4392-99ed-f139d0c21203",
   "metadata": {},
   "outputs": [
    {
     "name": "stdout",
     "output_type": "stream",
     "text": [
      "1\n"
     ]
    }
   ],
   "source": [
    "# we can access numpy array elements just like how we would access \n",
    "# any element form a normal list \n",
    "arr = np.array([1,2,3,4])\n",
    "print(arr[0]) # Boo-yaa, you will get the first element as your output"
   ]
  },
  {
   "cell_type": "code",
   "execution_count": 14,
   "id": "b4b4a16e-2a74-4782-bc12-d04d8ca5f17b",
   "metadata": {},
   "outputs": [
    {
     "name": "stdout",
     "output_type": "stream",
     "text": [
      "10\n"
     ]
    }
   ],
   "source": [
    "# We can even perform some basic arithmetic operations with the elements in and array\n",
    "aray = np.array((2,1,3,5,4,6))\n",
    "print(aray[3] * aray[0]) # see we got 10"
   ]
  },
  {
   "cell_type": "markdown",
   "id": "0f7b6d8b-36a7-44de-b8b8-0e3428442916",
   "metadata": {},
   "source": [
    " Accessing elements form any `more than one dimensional` arrays can be a bit challenging\n",
    "\n",
    " - Now, to access elements from 2-D arrays we can use comma separated integers representing the dimension and the index of the element.\n",
    " - We need to think of 2-D arrays like a table with rows and columns, where the dimension represents the row and the index represents the column."
   ]
  },
  {
   "cell_type": "code",
   "execution_count": 16,
   "id": "8ea6034e-5a4c-46b1-a719-7dc728341dd8",
   "metadata": {},
   "outputs": [
    {
     "name": "stdout",
     "output_type": "stream",
     "text": [
      "2nd element on 1st row:  2\n",
      "5th element on 2nd row:  10\n"
     ]
    }
   ],
   "source": [
    "arr = np.array([[1,2,3,4,5], [6,7,8,9,10]])\n",
    "# the first 0 is for selecting the first nested array between the 2 nested within the main array and 1 for the 2nd item in that array\n",
    "print('2nd element on 1st row: ', arr[0, 1])\n",
    "\n",
    "# lets try another example\n",
    "arr = np.array([[1,2,3,4,5], [6,7,8,9,10]])\n",
    "\n",
    "print('5th element on 2nd row: ', arr[1, 4])\n"
   ]
  },
  {
   "cell_type": "code",
   "execution_count": 17,
   "id": "78b38515-4bf8-46b2-a1e9-a71b4cc4cc54",
   "metadata": {},
   "outputs": [
    {
     "name": "stdout",
     "output_type": "stream",
     "text": [
      "6\n"
     ]
    }
   ],
   "source": [
    "# Similarly with the 3-D Arrays\n",
    "arr = np.array([[[1, 2, 3], [4, 5, 6]], [[7, 8, 9], [10, 11, 12]]])\n",
    "# as you may have already guessed, the 0 \n",
    "# for the 1st among 2 of the multi nested array, \n",
    "# and then 1 for the 2nd one in the 1st group\n",
    "# and finally 2 means the 3rd item of that selected array\n",
    "print(arr[0, 1, 2])"
   ]
  },
  {
   "cell_type": "code",
   "execution_count": 18,
   "id": "29c39e81-c0a3-402a-ac54-2dc0c4a72a27",
   "metadata": {},
   "outputs": [
    {
     "name": "stdout",
     "output_type": "stream",
     "text": [
      "Last element from 2nd dim:  10\n"
     ]
    }
   ],
   "source": [
    "# interestingly numpy does support, negative indexing like this \n",
    "arr = np.array([[1,2,3,4,5], [6,7,8,9,10]])\n",
    "# outputs the last item of the 2nd array inside the nested array\n",
    "print('Last element from 2nd dim: ', arr[1, -1])"
   ]
  },
  {
   "cell_type": "markdown",
   "id": "b986c6a4-539e-4c45-99de-1c6d9020cf4b",
   "metadata": {},
   "source": [
    "#### Numpy Array Slicing\n",
    "`Some General Things to Keep in Mind`\n",
    "- Slicing in python means taking elements from one given index to another given index.\n",
    "- We pass slice instead of index like this: [start:end].\n",
    "- We can also define the step, like this: [start:end:step].\n",
    "- If we don't pass start its considered 0\n",
    "- If we don't pass end its considered length of array in that dimension\n",
    "- If we don't pass step its considered 1"
   ]
  },
  {
   "cell_type": "code",
   "execution_count": 21,
   "id": "546f5fde-c650-402e-a3f0-9d3fdbdab1a4",
   "metadata": {},
   "outputs": [
    {
     "name": "stdout",
     "output_type": "stream",
     "text": [
      "[2 3 4 5]\n",
      "[4 5 6 7]\n",
      "[1 2 3 4]\n"
     ]
    }
   ],
   "source": [
    "# Lets do our First Example\n",
    "arr = np.array([1, 2, 3, 4, 5, 6, 7])\n",
    "print(arr[1:5]) # returns elements from 2 to 5\n",
    "print(arr[3:]) # returns elements from 3 till the end\n",
    "print(arr[:4]) # returns elements from the beginning till the fourth item"
   ]
  },
  {
   "cell_type": "code",
   "execution_count": 23,
   "id": "a40030d5-1ce7-4859-8c38-ec43b30a22a4",
   "metadata": {},
   "outputs": [
    {
     "name": "stdout",
     "output_type": "stream",
     "text": [
      "[5 4 3 2 1]\n"
     ]
    }
   ],
   "source": [
    "# Lets have a look at the negative slicing \n",
    "arr = np.array([1, 2, 3, 4, 5, 6, 7])\n",
    "# starting from the 3rd last item all the way to the beginning\n",
    "print(arr[-3::-1]) # this time we have used the Step attribute as well, "
   ]
  },
  {
   "cell_type": "markdown",
   "id": "50d67662-970c-4841-9b89-a90dd6d677c7",
   "metadata": {},
   "source": [
    "# Splitting Multi-Dimensional Arrays\n",
    "arr = np.array([[1, 2, 3, 4, 5], [6, 7, 8, 9, 10]])\n",
    "# Takes the 2nd array from the original nested array and then does the slicing on that\n",
    "print(arr[1, 1:4])"
   ]
  },
  {
   "cell_type": "code",
   "execution_count": 28,
   "id": "137789cf-f47b-4114-85a3-91342e3de7be",
   "metadata": {},
   "outputs": [
    {
     "name": "stdout",
     "output_type": "stream",
     "text": [
      "[3 8]\n"
     ]
    }
   ],
   "source": [
    "arr = np.array([[1, 2, 3, 4, 5], [6, 7, 8, 9, 10]])\n",
    "# This will take both nested array and will output the 3rd item from both of them in the form of a new array\n",
    "print(arr[0:2, 2])"
   ]
  },
  {
   "cell_type": "code",
   "execution_count": 26,
   "id": "4a84c8d2-085c-42dc-92c4-2f3f73ebcc00",
   "metadata": {},
   "outputs": [
    {
     "name": "stdout",
     "output_type": "stream",
     "text": [
      "[[2 3 4]\n",
      " [7 8 9]]\n"
     ]
    }
   ],
   "source": [
    "arr = np.array([[1, 2, 3, 4, 5], [6, 7, 8, 9, 10]])\n",
    "# This takes both the arrays from this nested array and then\n",
    "# puts the 2nd to 4th item in both the arrays within a new 2-d array\n",
    "print(arr[0:2, 1:4])"
   ]
  },
  {
   "cell_type": "markdown",
   "id": "4bcd9695-a807-4c43-80d4-c8acf4df3368",
   "metadata": {},
   "source": [
    "#### Let's Talk a bit about data types in Numpy\n",
    "NumPy has some extra data types,\n",
    "and refer to data types with one character,\n",
    "like i for integers, u for unsigned integers etc.\n",
    "\n",
    "Below is a list of all the data types in Numpy\n",
    "- `i` - integer\n",
    "- `b` - boolean\n",
    "- `u` - unsigned integer\n",
    "- `f` - float\n",
    "- `c` - complex float\n",
    "- `m` - timedelta\n",
    "- `M` - datatime\n",
    "- `O` - object\n",
    "- `S` - string\n",
    "- `U` - unicode string\n",
    "- `V` - fixed chunk of memory for other type ( void )\n",
    "\n"
   ]
  },
  {
   "cell_type": "code",
   "execution_count": 32,
   "id": "eeef3f76-400f-4b16-a74d-00d61b1330cb",
   "metadata": {},
   "outputs": [
    {
     "name": "stdout",
     "output_type": "stream",
     "text": [
      "int64\n",
      "<U6\n"
     ]
    }
   ],
   "source": [
    "# To check the datatype of the elements present in the array,\n",
    "# this is something we can do\n",
    "\n",
    "arr = np.array([1, 2, 3, 4])\n",
    "print(arr.dtype)\n",
    "\n",
    "arr1 = np.array(['apple', 'banana', 'cherry'])\n",
    "print(arr1.dtype)"
   ]
  },
  {
   "cell_type": "code",
   "execution_count": 33,
   "id": "aefec349-a6af-4740-9dde-8ff020e48a22",
   "metadata": {},
   "outputs": [
    {
     "name": "stdout",
     "output_type": "stream",
     "text": [
      "[b'1' b'2' b'3' b'4']\n",
      "|S1\n"
     ]
    }
   ],
   "source": [
    "# we could also create arrays with defined data type\n",
    "arr = np.array([1,2,3,4],dtype = 'S')\n",
    "print(arr)\n",
    "print(arr.dtype) \n",
    "# we get a weird output after string conversion as there\n",
    "# - b'1' instead of '1' keep that in mind "
   ]
  },
  {
   "cell_type": "code",
   "execution_count": 34,
   "id": "d2eb1943-432c-4dbf-a9a6-6386569f4b70",
   "metadata": {},
   "outputs": [
    {
     "name": "stdout",
     "output_type": "stream",
     "text": [
      "[1 2 3 4]\n",
      "int32\n"
     ]
    }
   ],
   "source": [
    "arr = np.array([1, 2, 3, 4], dtype='i4')\n",
    "print(arr)\n",
    "print(arr.dtype) # returns int32  "
   ]
  },
  {
   "cell_type": "code",
   "execution_count": 35,
   "id": "99335cf2-f4d2-4c9b-bd4d-e42f8e03c234",
   "metadata": {},
   "outputs": [
    {
     "name": "stdout",
     "output_type": "stream",
     "text": [
      "Opposi PooPsi\n"
     ]
    }
   ],
   "source": [
    "try:\n",
    "    arr = np.array(['a', '2', '3'], dtype='i')\n",
    "    print(arr)\n",
    "    print(arr.dtype)\n",
    "except:\n",
    "    print('Opposi PooPsi')\n",
    "# the elements present within the numpy array aren't of the same type,\n",
    "# thats why it threw an error"
   ]
  },
  {
   "cell_type": "markdown",
   "id": "f4b8112e-0047-4933-a188-0dd56474056b",
   "metadata": {},
   "source": [
    "#### Converting Data Type on Existing Arrays\n",
    "\n",
    "- The best way to change the data type of an existing array, is to make a copy of the array with the `astype()` method.\n",
    "\n",
    "- The astype() function creates a copy of the array, and allows you to `specify the data type` as a parameter.\n",
    "\n",
    "- The data type can be specified using a `string`, like 'f' for `float`, 'i' for `integer` etc. or you can use the data type directly like float for float and int for integer."
   ]
  },
  {
   "cell_type": "code",
   "execution_count": 36,
   "id": "22cb7f19-552a-4086-bf2e-26e0d66f5990",
   "metadata": {},
   "outputs": [
    {
     "name": "stdout",
     "output_type": "stream",
     "text": [
      "[1 2 3]\n",
      "int32\n"
     ]
    }
   ],
   "source": [
    "arr = np.array([1.1, 2.1, 3.1]) # this ones a float\n",
    "\n",
    "newarr = arr.astype('i') # changes it to integer from float\n",
    "\n",
    "print(newarr)\n",
    "print(newarr.dtype) #int32"
   ]
  },
  {
   "cell_type": "code",
   "execution_count": 37,
   "id": "037ba524-fd41-43f4-a02e-f48c59e3319a",
   "metadata": {},
   "outputs": [
    {
     "name": "stdout",
     "output_type": "stream",
     "text": [
      "[ True False  True]\n",
      "bool\n"
     ]
    }
   ],
   "source": [
    "# This example is for boolean meaning that,\n",
    "# if the value is 0 then False otherwise True\n",
    "arr = np.array([1, 0, 3])\n",
    "newarr = arr.astype(bool)\n",
    "print(newarr)\n",
    "print(newarr.dtype)"
   ]
  },
  {
   "cell_type": "markdown",
   "id": "8e1b3f36-16b4-47b6-a572-96460e7e3641",
   "metadata": {},
   "source": [
    "### Numpy Array Copy vs View\n",
    "##### The Difference between Copy and View\n",
    "\n",
    "- The main difference between a copy and a view of an array is that the `copy is a new array`, and the view is just a `view of the original array`.\n",
    "\n",
    "- The copy owns the data and any changes made to the `copy will not affect original array`, and any changes made to the original array will not affect the copy.\n",
    "\n",
    "- The view does not own the data and any changes made to the view will affect the original array, and `any changes made to the original array will affect the view.`"
   ]
  },
  {
   "cell_type": "code",
   "execution_count": 3,
   "id": "2150f30c-1bbd-457b-b39f-fb88f05bc094",
   "metadata": {},
   "outputs": [
    {
     "name": "stdout",
     "output_type": "stream",
     "text": [
      "[1 2 3 2 5]\n",
      "[1 2 3 4 5]\n"
     ]
    }
   ],
   "source": [
    "# Copy\n",
    "import numpy as np\n",
    "arr = np.array([1,2,3,4,5])\n",
    "cpy_arr = arr.copy()\n",
    "\n",
    "arr[3] = 2\n",
    "print(arr)\n",
    "print(cpy_arr) # remains un-affected"
   ]
  },
  {
   "cell_type": "code",
   "execution_count": 5,
   "id": "714f6da7-7979-4697-aacb-9180055a47e3",
   "metadata": {},
   "outputs": [
    {
     "name": "stdout",
     "output_type": "stream",
     "text": [
      "[ 1 10  3  4  5]\n",
      "[ 1 10  3  4  5]\n"
     ]
    }
   ],
   "source": [
    "# as the original array changes the view shall change as well\n",
    "arr = np.array([1,2,3,4,5])\n",
    "x = arr.view()\n",
    "\n",
    "arr[1] = 10\n",
    "print(arr)\n",
    "print(x) # now the value has been updated here "
   ]
  },
  {
   "cell_type": "code",
   "execution_count": 6,
   "id": "dd8f81cf-ec76-4431-829b-80c18261c410",
   "metadata": {},
   "outputs": [
    {
     "name": "stdout",
     "output_type": "stream",
     "text": [
      "None\n",
      "[1 2 3 4 5]\n"
     ]
    }
   ],
   "source": [
    "# How to check if Array Owns its Data ?\n",
    "\n",
    "arr = np.array([1,2,3,4,5])\n",
    "\n",
    "x = arr.copy()\n",
    "y = arr.view()\n",
    "\n",
    "# this checks\n",
    "print(x.base) # this returns None meaning this doesn't own the data\n",
    "print(y.base)"
   ]
  },
  {
   "cell_type": "code",
   "execution_count": 8,
   "id": "efe48684-8db8-48e9-8eaf-dc86b0ee5b6e",
   "metadata": {},
   "outputs": [
    {
     "name": "stdout",
     "output_type": "stream",
     "text": [
      "(2, 4)\n"
     ]
    }
   ],
   "source": [
    "# Lets talk about shapes\n",
    "arr = np.array([[1,2,3,4],[5,6,7,8]])\n",
    "print(arr.shape) #returns the shape in this case we get (2,4) 2 elements each having 4 elements"
   ]
  },
  {
   "cell_type": "markdown",
   "id": "bb653774-ce67-4c85-bc7c-4f1cafcf7ca7",
   "metadata": {},
   "source": [
    "- Create an array with 5 dimensions using ndmin\n",
    "- using a vector with values 1,2,3,4 \n",
    "- and verify that last dimension has value 4"
   ]
  },
  {
   "cell_type": "code",
   "execution_count": 9,
   "id": "7f6d620f-6b6a-4251-b15e-a9097755976d",
   "metadata": {},
   "outputs": [
    {
     "name": "stdout",
     "output_type": "stream",
     "text": [
      "[[[[[1 2 3 4]]]]]\n",
      "shape of array : (1, 1, 1, 1, 4)\n"
     ]
    }
   ],
   "source": [
    "arr = np.array([1, 2, 3, 4], ndmin=5)\n",
    "\n",
    "print(arr)\n",
    "print('shape of array :', arr.shape) \n",
    "# try to understand the concept here the last dimenson\n",
    "# is where the elements of the original array is at core wise,\n",
    "# the other dimensons are cast onto then"
   ]
  },
  {
   "cell_type": "markdown",
   "id": "437766d8-38e0-45b5-aabb-fe0c00847a98",
   "metadata": {},
   "source": [
    "##### Numpy Array Reshaping\n",
    "- Reshaping means changing the `shape` of an array.\n",
    "- The shape of an array is the number of `elements` in each `dimension`.\n",
    "- By reshaping we can `add or remove dimensions` or `change number of elements in each dimension`."
   ]
  },
  {
   "cell_type": "code",
   "execution_count": 10,
   "id": "f5080bc0-66fd-4792-871b-519cac7551e7",
   "metadata": {},
   "outputs": [
    {
     "name": "stdout",
     "output_type": "stream",
     "text": [
      "[[1 2 3]\n",
      " [4 5 6]]\n"
     ]
    }
   ],
   "source": [
    "# From 1-D to 2-D\n",
    "array = np.array([1,2,3,4,5,6]) # total of 6 elements\n",
    "new_arr = array.reshape((2,3)) \n",
    "# must make sure that the multiplication of the digits matchs the number of elements of the array you wanted to convert \n",
    "print(new_arr)"
   ]
  },
  {
   "cell_type": "code",
   "execution_count": 11,
   "id": "5becac5a-67e5-41f8-8cd9-adb9b827a3f2",
   "metadata": {},
   "outputs": [
    {
     "name": "stdout",
     "output_type": "stream",
     "text": [
      "[[[ 1  2]\n",
      "  [ 3  4]\n",
      "  [ 5  6]]\n",
      "\n",
      " [[ 7  8]\n",
      "  [ 9 10]\n",
      "  [11 12]]]\n"
     ]
    }
   ],
   "source": [
    "# Similarly 1-D array to 3-D array\n",
    "arr = np.array([1, 2, 3, 4, 5, 6, 7, 8, 9, 10, 11, 12])\n",
    "newarr = arr.reshape(2, 3, 2) \n",
    "# same logic here 2*3*2 = 12 elements in total\n",
    "print(newarr)"
   ]
  },
  {
   "cell_type": "markdown",
   "id": "d36f14a7-9672-4326-9a91-835a6059beb6",
   "metadata": {},
   "source": [
    "If an array has `15 elements` and you want to reshape it to (3,3)- it wont work as `3*3 == 9` so it won't make sense for the rest of the elements to simply `disappear`"
   ]
  },
  {
   "cell_type": "markdown",
   "id": "78eb30f4-8019-4035-b113-255ce2c89a02",
   "metadata": {},
   "source": [
    "### Returns Copy or View\n"
   ]
  },
  {
   "cell_type": "code",
   "execution_count": 12,
   "id": "02a4e048-d937-40f8-84fb-74075b6e8311",
   "metadata": {},
   "outputs": [
    {
     "name": "stdout",
     "output_type": "stream",
     "text": [
      "[1 2 3 4 5 6 7 8]\n"
     ]
    }
   ],
   "source": [
    "arr = np.array([1, 2, 3, 4, 5, 6, 7, 8])\n",
    "print(arr.reshape(2, 4).base) \n",
    "# So the base will revert a reshaped array back to normal"
   ]
  },
  {
   "cell_type": "markdown",
   "id": "e4a62762-4681-486c-a886-c78361526811",
   "metadata": {},
   "source": [
    "#### Unknown Dimension\n",
    "\n",
    "- You are allowed to have one \"unknown\" dimension.\n",
    "- Meaning that you do not have to specify an exact number for one of the dimensions in the reshape method.\n",
    "- Pass -1 as the value, and NumPy will calculate this number for you."
   ]
  },
  {
   "cell_type": "code",
   "execution_count": 13,
   "id": "28bafcaa-42d0-4ab3-a4bf-cb58bcaeb1cf",
   "metadata": {},
   "outputs": [
    {
     "name": "stdout",
     "output_type": "stream",
     "text": [
      "[[[1 2]\n",
      "  [3 4]]\n",
      "\n",
      " [[5 6]\n",
      "  [7 8]]]\n"
     ]
    }
   ],
   "source": [
    "arr = np.array([1, 2, 3, 4, 5, 6, 7, 8])\n",
    "\n",
    "newarr = arr.reshape(2, 2, -1) \n",
    "# we use the -1 here so that the reshape automatically \n",
    "# adjusts everything itself\n",
    "\n",
    "print(newarr)"
   ]
  },
  {
   "cell_type": "code",
   "execution_count": 14,
   "id": "5dc5f9bd-1984-42ce-90a8-661cecedf83c",
   "metadata": {},
   "outputs": [
    {
     "name": "stdout",
     "output_type": "stream",
     "text": [
      "[1 2 3 4 5 6]\n"
     ]
    }
   ],
   "source": [
    "# Flattening array means converting a multidimensional array into a 1D array\n",
    "arr = np.array([[1,2,3],[4,5,6]])\n",
    "new_arr = arr.reshape(-1) \n",
    "print(new_arr)"
   ]
  },
  {
   "cell_type": "markdown",
   "id": "c9ee588e-958b-4a8a-8d5f-a5b60daaea3e",
   "metadata": {},
   "source": [
    "### Iterating Over Numpy Arrays\n"
   ]
  },
  {
   "cell_type": "code",
   "execution_count": 15,
   "id": "7f86e464-8a91-454f-bd3b-3bb2e15590b0",
   "metadata": {},
   "outputs": [
    {
     "name": "stdout",
     "output_type": "stream",
     "text": [
      "[1 2 3]\n",
      "[4 5 6]\n"
     ]
    }
   ],
   "source": [
    "arr = np.array([[1,2,3],[4,5,6]])\n",
    "for _ in arr:\n",
    "    print(_) # this returns the nested arrays"
   ]
  },
  {
   "cell_type": "code",
   "execution_count": 18,
   "id": "c47e7553-be22-43c2-a7da-432c10be8273",
   "metadata": {},
   "outputs": [
    {
     "name": "stdout",
     "output_type": "stream",
     "text": [
      "1 2 3 3 2 1 4 5 6 6 5 4 7 8 9 9 8 7 "
     ]
    }
   ],
   "source": [
    "# now what if we wanted to get all the items within the nested arrays\n",
    "array = np.array([[[1,2,3],[3,2,1]],[[4,5,6],[6,5,4]],[[7,8,9],[9,8,7]]])\n",
    "for x in array:\n",
    "    for y in x:\n",
    "        for z in y:\n",
    "            print(z, end = ' ')\n",
    "\n",
    "# Liked it, I knew you would"
   ]
  },
  {
   "cell_type": "code",
   "execution_count": 19,
   "id": "514b5ec8-25ff-427f-934b-001cf68e81f6",
   "metadata": {},
   "outputs": [
    {
     "name": "stdout",
     "output_type": "stream",
     "text": [
      "1\n",
      "2\n",
      "3\n",
      "4\n",
      "5\n",
      "6\n",
      "7\n",
      "8\n"
     ]
    }
   ],
   "source": [
    "arr = np.array([[[1, 2], [3, 4]], [[5, 6], [7, 8]]])\n",
    "\n",
    "for x in np.nditer(arr): \n",
    "  print(x)\n",
    "\n",
    "# this is basically the shortcut of the previous one"
   ]
  },
  {
   "cell_type": "code",
   "execution_count": null,
   "id": "4a7ad705-d7a6-4297-ba64-91edd60e8f73",
   "metadata": {},
   "outputs": [],
   "source": []
  },
  {
   "cell_type": "code",
   "execution_count": null,
   "id": "f0ffbad4-931b-42cd-937c-ae818f4454a8",
   "metadata": {},
   "outputs": [],
   "source": []
  },
  {
   "cell_type": "code",
   "execution_count": null,
   "id": "86b0fcb7-4b72-4aad-a438-f4f1d5cf8e01",
   "metadata": {},
   "outputs": [],
   "source": []
  },
  {
   "cell_type": "code",
   "execution_count": null,
   "id": "da7bb1bd-367b-4dbb-9684-b08fb63724ce",
   "metadata": {},
   "outputs": [],
   "source": []
  }
 ],
 "metadata": {
  "kernelspec": {
   "display_name": "Python 3 (ipykernel)",
   "language": "python",
   "name": "python3"
  },
  "language_info": {
   "codemirror_mode": {
    "name": "ipython",
    "version": 3
   },
   "file_extension": ".py",
   "mimetype": "text/x-python",
   "name": "python",
   "nbconvert_exporter": "python",
   "pygments_lexer": "ipython3",
   "version": "3.13.1"
  }
 },
 "nbformat": 4,
 "nbformat_minor": 5
}
